{
 "cells": [
  {
   "cell_type": "code",
   "execution_count": 15,
   "metadata": {},
   "outputs": [],
   "source": [
    "from data import *\n",
    "import torch\n",
    "import networkx as nx\n",
    "from node import Node\n",
    "from model import ConvNet, MNISTConvNet\n",
    "from utils import *"
   ]
  },
  {
   "cell_type": "code",
   "execution_count": 16,
   "metadata": {},
   "outputs": [],
   "source": [
    "NUM_NODES = 3 # 1.. 10"
   ]
  },
  {
   "cell_type": "code",
   "execution_count": 17,
   "metadata": {},
   "outputs": [],
   "source": [
    "device = torch.device(\"cuda\" if torch.cuda.is_available() else \"cpu\")"
   ]
  },
  {
   "cell_type": "code",
   "execution_count": 18,
   "metadata": {},
   "outputs": [],
   "source": [
    "combined_dataset = CombinedDataset(\n",
    "    data_path=\"./mnist_png/\", num_nodes=NUM_NODES, overlap_pct=0.01, val_pct=0.1\n",
    ")"
   ]
  },
  {
   "cell_type": "code",
   "execution_count": 19,
   "metadata": {},
   "outputs": [],
   "source": [
    "node_dataloaders = {}\n",
    "\n",
    "tfms = transforms.Compose(\n",
    "    [transforms.Grayscale(), transforms.Resize((28, 28)), transforms.ToTensor()]\n",
    ")\n",
    "\n",
    "for node_id in range(NUM_NODES):\n",
    "    node_dataloaders[node_id] = torch.utils.data.DataLoader(\n",
    "        NodeDataset(combined_dataset, node_id, transform=tfms), batch_size=32, shuffle=True\n",
    "    )\n",
    "\n",
    "test_dataloaders = torch.utils.data.DataLoader(\n",
    "    ValDataset(combined_dataset, transform=tfms), batch_size=32, shuffle=True\n",
    ")"
   ]
  },
  {
   "cell_type": "code",
   "execution_count": 20,
   "metadata": {},
   "outputs": [],
   "source": [
    "nodes = [\n",
    "    Node(\n",
    "        node_dataloaders[node_idx],\n",
    "        MNISTConvNet,\n",
    "        torch.optim.Adam,\n",
    "        torch.nn.CrossEntropyLoss,\n",
    "        device=device,\n",
    "        model_kwargs={\"num_filters\": 3, \"kernel_size\": 5, \"linear_width\": 64}\n",
    "    )\n",
    "    for node_idx in range(NUM_NODES)\n",
    "]"
   ]
  },
  {
   "cell_type": "code",
   "execution_count": 21,
   "metadata": {},
   "outputs": [
    {
     "name": "stderr",
     "output_type": "stream",
     "text": [
      "/tmp/ipykernel_2695/1081100046.py:1: FutureWarning: You are using `torch.load` with `weights_only=False` (the current default value), which uses the default pickle module implicitly. It is possible to construct malicious pickle data which will execute arbitrary code during unpickling (See https://github.com/pytorch/pytorch/blob/main/SECURITY.md#untrusted-models for more details). In a future release, the default value for `weights_only` will be flipped to `True`. This limits the functions that could be executed during unpickling. Arbitrary objects will no longer be allowed to be loaded via this mode unless they are explicitly allowlisted by the user via `torch.serialization.add_safe_globals`. We recommend you start setting `weights_only=True` for any use case where you don't have full control of the loaded file. Please open an issue on GitHub for any issues related to this experimental feature.\n",
      "  sd = torch.load(\"./init_weights.pth\")\n"
     ]
    }
   ],
   "source": [
    "sd = torch.load(\"./init_weights.pth\")"
   ]
  },
  {
   "cell_type": "code",
   "execution_count": 22,
   "metadata": {},
   "outputs": [
    {
     "data": {
      "text/plain": [
       "<All keys matched successfully>"
      ]
     },
     "execution_count": 22,
     "metadata": {},
     "output_type": "execute_result"
    }
   ],
   "source": [
    "nodes[0].model.load_state_dict(sd)"
   ]
  },
  {
   "cell_type": "code",
   "execution_count": 23,
   "metadata": {},
   "outputs": [],
   "source": [
    "# copy weights from one node to another\n",
    "def copy_weights(from_node, to_node):\n",
    "    to_node.model.load_state_dict(from_node.model.state_dict())\n",
    "\n",
    "\n",
    "for node_idx in range(1, NUM_NODES):\n",
    "    copy_weights(nodes[0], nodes[node_idx])"
   ]
  },
  {
   "cell_type": "code",
   "execution_count": 24,
   "metadata": {},
   "outputs": [],
   "source": [
    "primal_loss = torch.nn.NLLLoss()"
   ]
  },
  {
   "cell_type": "code",
   "execution_count": 25,
   "metadata": {},
   "outputs": [],
   "source": [
    "OITS = 2000\n",
    "IITS = 2\n",
    "RHO = 1.0\n",
    "RHO_SCALING = 1.1"
   ]
  },
  {
   "cell_type": "code",
   "execution_count": 26,
   "metadata": {},
   "outputs": [],
   "source": [
    "history = {\n",
    "    \"loss\": [],\n",
    "    \"pred_loss\": [],\n",
    "    \"accuracy\": [],\n",
    "}"
   ]
  },
  {
   "cell_type": "code",
   "execution_count": 27,
   "metadata": {},
   "outputs": [],
   "source": [
    "g = nx.complete_graph(NUM_NODES)"
   ]
  },
  {
   "cell_type": "code",
   "execution_count": null,
   "metadata": {},
   "outputs": [],
   "source": [
    "# Custom Distributed training framework Implementation\n",
    "accuracies ={}\n",
    "losses = {}\n",
    "\n",
    "for node_idx, node in enumerate(nodes):\n",
    "    accuracies[node_idx] = []\n",
    "    losses[node_idx] = []\n",
    "    \n",
    "for oit in range(OITS):    \n",
    "    for node_idx, node in enumerate(nodes):\n",
    "        \n",
    "        for __ in range(IITS):\n",
    "            node.optimizer.zero_grad()\n",
    "            inputs, labels = node.get_next_batch()\n",
    "            inputs, labels = inputs.to(device), labels.to(device)\n",
    "            pred = node.model(inputs)\n",
    "            loss = primal_loss(pred, labels) + (\n",
    "                RHO * convergence_loss(node_idx, nodes, NUM_NODES, device)\n",
    "            )\n",
    "            loss.backward()\n",
    "            node.optimizer.step()\n",
    "        history[\"loss\"].append(loss.item())\n",
    "        losses[node_idx].append(loss.item())\n",
    "        print(f\"Node {node_idx} loss: {loss.item()}\")\n",
    "        # calculate accuracy\n",
    "        if oit % 10 == 0:\n",
    "            with torch.no_grad():\n",
    "                correct = 0\n",
    "                total = 0\n",
    "                for inputs, labels in test_dataloaders:\n",
    "                    inputs, labels = inputs.to(device), labels.to(device)\n",
    "                    outputs = node.model(inputs)\n",
    "                    _, predicted = torch.max(outputs.data, 1)\n",
    "                    total += labels.size(0)\n",
    "                    correct += (predicted == labels).sum().item()\n",
    "                accuracy = correct / total\n",
    "                history[\"accuracy\"].append(accuracy)\n",
    "                accuracies[node_idx].append(accuracy)\n",
    "                print(f\"Node {node_idx} accuracy: {accuracy}\")\n"
   ]
  },
  {
   "cell_type": "code",
   "execution_count": null,
   "metadata": {},
   "outputs": [],
   "source": []
  }
 ],
 "metadata": {
  "kernelspec": {
   "display_name": "pytorch",
   "language": "python",
   "name": "python3"
  },
  "language_info": {
   "codemirror_mode": {
    "name": "ipython",
    "version": 3
   },
   "file_extension": ".py",
   "mimetype": "text/x-python",
   "name": "python",
   "nbconvert_exporter": "python",
   "pygments_lexer": "ipython3",
   "version": "3.11.10"
  }
 },
 "nbformat": 4,
 "nbformat_minor": 2
}
